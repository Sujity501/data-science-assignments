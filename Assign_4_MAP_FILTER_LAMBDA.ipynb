{
 "cells": [
  {
   "cell_type": "code",
   "execution_count": 9,
   "metadata": {},
   "outputs": [
    {
     "name": "stdout",
     "output_type": "stream",
     "text": [
      "10 + 25 = 35\n"
     ]
    }
   ],
   "source": [
    "# Play with Lambda\n",
    "\n",
    "add = lambda x: x + 25\n",
    "num = int(input(\"Enter a number: \"))\n",
    "result = add(num)\n",
    "print(f\"{num} + 25 = {result}\")\n"
   ]
  },
  {
   "cell_type": "code",
   "execution_count": 10,
   "metadata": {},
   "outputs": [
    {
     "name": "stdout",
     "output_type": "stream",
     "text": [
      "[3, 6, 9, 12, 15, 18, 21]\n"
     ]
    }
   ],
   "source": [
    "# Find the way with Maps\n",
    "\n",
    "def triple_number(num):\n",
    "    return num * 3\n",
    "input_list = [1, 2, 3, 4, 5, 6, 7]\n",
    "result_list = list(map(triple_number, input_list))\n",
    "print(result_list)\n"
   ]
  },
  {
   "cell_type": "code",
   "execution_count": 11,
   "metadata": {},
   "outputs": [
    {
     "name": "stdout",
     "output_type": "stream",
     "text": [
      "[16, 25, 4, 81]\n"
     ]
    }
   ],
   "source": [
    "# Find the Squares from the given List\n",
    "\n",
    "def square_number(num):\n",
    "    return num ** 2\n",
    "input_list = [4, 5, 2, 9]\n",
    "result_list = list(map(square_number, input_list))\n",
    "print(result_list)\n",
    "\n",
    "\n",
    "\n",
    "\n"
   ]
  },
  {
   "cell_type": "code",
   "execution_count": null,
   "metadata": {},
   "outputs": [],
   "source": []
  }
 ],
 "metadata": {
  "kernelspec": {
   "display_name": "Python 3",
   "language": "python",
   "name": "python3"
  },
  "language_info": {
   "codemirror_mode": {
    "name": "ipython",
    "version": 3
   },
   "file_extension": ".py",
   "mimetype": "text/x-python",
   "name": "python",
   "nbconvert_exporter": "python",
   "pygments_lexer": "ipython3",
   "version": "3.11.5"
  },
  "orig_nbformat": 4
 },
 "nbformat": 4,
 "nbformat_minor": 2
}
