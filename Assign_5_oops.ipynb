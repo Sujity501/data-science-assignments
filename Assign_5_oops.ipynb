{
 "cells": [
  {
   "cell_type": "code",
   "execution_count": 1,
   "metadata": {},
   "outputs": [
    {
     "name": "stdout",
     "output_type": "stream",
     "text": [
      "35\n"
     ]
    }
   ],
   "source": [
    "# Challenge 1: Square Numbers and Return Their Sum\n",
    "\n",
    "\n",
    "class Point:\n",
    "    def __init__(self, x, y, z):\n",
    "        self.x = x\n",
    "        self.y = y\n",
    "        self.z = z\n",
    "\n",
    "    def sqSum(self):\n",
    "        return self.x ** 2 + self.y ** 2 + self.z ** 2\n",
    "\n",
    "point = Point(1, 3, 5)\n",
    "result = point.sqSum()\n",
    "print(result)  \n"
   ]
  },
  {
   "cell_type": "code",
   "execution_count": 3,
   "metadata": {},
   "outputs": [
    {
     "name": "stdout",
     "output_type": "stream",
     "text": [
      "Addition: 104\n",
      "Subtraction: 84\n",
      "Multiplication: 940\n",
      "Division: 9.4\n"
     ]
    }
   ],
   "source": [
    "# Challenge 2: Implement a Calculator Class\n",
    "\n",
    "class Calculator:\n",
    "    def __init__(self, num1, num2):\n",
    "        self.num1 = num1\n",
    "        self.num2 = num2\n",
    "\n",
    "    def add(self):\n",
    "        return self.num1 + self.num2\n",
    "\n",
    "    def subtract(self):\n",
    "        return self.num2 - self.num1\n",
    "\n",
    "    def multiply(self):\n",
    "        return self.num1 * self.num2\n",
    "\n",
    "    def divide(self):\n",
    "        if self.num1 == 0:\n",
    "            raise ValueError(\"Division by zero is not allowed\")\n",
    "        return self.num2 / self.num1\n",
    "\n",
    "obj = Calculator(10, 94)\n",
    "result_add = obj.add()\n",
    "result_subtract = obj.subtract()\n",
    "result_multiply = obj.multiply()\n",
    "result_divide = obj.divide()\n",
    "\n",
    "print(\"Addition:\", result_add)         \n",
    "print(\"Subtraction:\", result_subtract) \n",
    "print(\"Multiplication:\", result_multiply) \n",
    "print(\"Division:\", result_divide)      \n"
   ]
  },
  {
   "cell_type": "code",
   "execution_count": 4,
   "metadata": {},
   "outputs": [
    {
     "name": "stdout",
     "output_type": "stream",
     "text": [
      "Name: Sujit\n",
      "Roll Number: 12\n",
      "Updated Name: Sandeep\n",
      "Updated Roll Number: 13\n"
     ]
    }
   ],
   "source": [
    "#Challenge 3: Implement the Complete Student Class\n",
    "\n",
    "class Student:\n",
    "    def __init__(self, name, rollNumber):\n",
    "        self._name = name\n",
    "        self._rollNumber = rollNumber\n",
    "\n",
    "    def getName(self):\n",
    "        return self._name\n",
    "\n",
    "    def setName(self, name):\n",
    "        self._name = name\n",
    "\n",
    "    def getRollNumber(self):\n",
    "        return self._rollNumber\n",
    "\n",
    "    def setRollNumber(self, rollNumber):\n",
    "        self._rollNumber = rollNumber\n",
    "\n",
    "student = Student(\"Sujit\", 12)\n",
    "\n",
    "print(\"Name:\", student.getName())           \n",
    "print(\"Roll Number:\", student.getRollNumber()) \n",
    "\n",
    "student.setName(\"Sandeep\")\n",
    "student.setRollNumber(13)\n",
    "\n",
    "print(\"Updated Name:\", student.getName())           \n",
    "print(\"Updated Roll Number:\", student.getRollNumber()) \n"
   ]
  },
  {
   "cell_type": "code",
   "execution_count": 8,
   "metadata": {},
   "outputs": [
    {
     "name": "stdout",
     "output_type": "stream",
     "text": [
      "Account Title: Ashish\n",
      "Account Balance: 9000\n",
      "Savings Account Title: Ashish\n",
      "Savings Account Balance: 9000\n",
      "Interest Rate: 9\n"
     ]
    }
   ],
   "source": [
    "# challenge 4: Implement a Banking Account\n",
    "\n",
    "class Account:\n",
    "    def __init__(self, title, balance=0):\n",
    "        self.title = title\n",
    "        self.balance = balance\n",
    "\n",
    "class SavingsAccount(Account):\n",
    "    def __init__(self, title, balance, interestRate):\n",
    "        super().__init__(title, balance)\n",
    "        self.interestRate = interestRate\n",
    "\n",
    "account = Account(\"Ashish\", 9000)\n",
    "print(\"Account Title:\", account.title)  \n",
    "print(\"Account Balance:\", account.balance)  \n",
    "\n",
    "savings_account = SavingsAccount(\"Ashish\", 9000, 9)\n",
    "print(\"Savings Account Title:\", savings_account.title)  \n",
    "print(\"Savings Account Balance:\", savings_account.balance)  \n",
    "print(\"Interest Rate:\", savings_account.interestRate) \n"
   ]
  },
  {
   "cell_type": "code",
   "execution_count": 10,
   "metadata": {},
   "outputs": [
    {
     "name": "stdout",
     "output_type": "stream",
     "text": [
      "Current Balance: 2500\n",
      "Updated Balance after withdrawal: 2000\n",
      "Interest Amount: 100.0\n"
     ]
    }
   ],
   "source": [
    "# Challenge 5: Handling a Bank Account\n",
    "class Account:\n",
    "    def __init__(self, title, balance=0):\n",
    "        self.title = title\n",
    "        self.balance = balance\n",
    "\n",
    "    def getBalance(self):\n",
    "        return self.balance\n",
    "\n",
    "    def deposit(self, amount):\n",
    "        self.balance += amount\n",
    "\n",
    "    def withdrawal(self, amount):\n",
    "        self.balance -= amount\n",
    "\n",
    "class SavingsAccount(Account):\n",
    "    def __init__(self, title, balance, interestRate):\n",
    "        super().__init__(title, balance)\n",
    "        self.interestRate = interestRate\n",
    "\n",
    "    def interestAmount(self):\n",
    "        return (self.balance * self.interestRate) / 100\n",
    "\n",
    "account = Account(\"Ashish\", 2000)\n",
    "\n",
    "account.deposit(500)\n",
    "\n",
    "current_balance = account.getBalance()\n",
    "print(\"Current Balance:\", current_balance)  \n",
    "\n",
    "account.withdrawal(500)\n",
    "\n",
    "updated_balance = account.getBalance()\n",
    "print(\"Updated Balance after withdrawal:\", updated_balance)  \n",
    "\n",
    "savings_account = SavingsAccount(\"Savings\", 2000, 5)\n",
    "\n",
    "interest = savings_account.interestAmount()\n",
    "print(\"Interest Amount:\", interest)  \n",
    "\n",
    "\n"
   ]
  }
 ],
 "metadata": {
  "kernelspec": {
   "display_name": "Python 3",
   "language": "python",
   "name": "python3"
  },
  "language_info": {
   "codemirror_mode": {
    "name": "ipython",
    "version": 3
   },
   "file_extension": ".py",
   "mimetype": "text/x-python",
   "name": "python",
   "nbconvert_exporter": "python",
   "pygments_lexer": "ipython3",
   "version": "3.11.5"
  },
  "orig_nbformat": 4
 },
 "nbformat": 4,
 "nbformat_minor": 2
}
