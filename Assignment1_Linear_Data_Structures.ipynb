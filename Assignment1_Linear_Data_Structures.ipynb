{
 "cells": [
  {
   "cell_type": "code",
   "execution_count": 1,
   "metadata": {},
   "outputs": [
    {
     "name": "stdout",
     "output_type": "stream",
     "text": [
      "Pairs with sum 6 are: [(4, 2), (5, 1)]\n"
     ]
    }
   ],
   "source": [
    "# 1. Write a program to find all pairs of an integer array whose sum is equal to a given number\n",
    "\n",
    "def find_pairs_with_sum(arr, target_sum):\n",
    "    pairs = []\n",
    "    seen = set()\n",
    "\n",
    "    for num in arr:\n",
    "        complement = target_sum - num\n",
    "\n",
    "        if complement in seen:\n",
    "            pairs.append((num, complement))\n",
    "        seen.add(num)\n",
    "\n",
    "    return pairs\n",
    "\n",
    "arr = [1, 2, 9, 4, 5, 6]\n",
    "target_sum = 6\n",
    "result = find_pairs_with_sum(arr, target_sum)\n",
    "print(\"Pairs with sum\", target_sum, \"are:\", result)\n"
   ]
  },
  {
   "cell_type": "code",
   "execution_count": 4,
   "metadata": {},
   "outputs": [
    {
     "name": "stdout",
     "output_type": "stream",
     "text": [
      "[5, 4, 8, 2, 1]\n"
     ]
    }
   ],
   "source": [
    "#2 Write a program to reverse an array in place? In place means you cannot create a new array. You have to update the original array.\n",
    "\n",
    "def reverse_array(arr):\n",
    "    length = len(arr)\n",
    "\n",
    "    start = 0\n",
    "    end = length - 1\n",
    "\n",
    "    while start < end:\n",
    "        arr[start], arr[end] = arr[end], arr[start]\n",
    "        start += 1\n",
    "        end -= 1\n",
    "\n",
    "my_array = [1, 2, 8, 4, 5]\n",
    "reverse_array(my_array)\n",
    "print(my_array)  \n"
   ]
  },
  {
   "cell_type": "code",
   "execution_count": 5,
   "metadata": {},
   "outputs": [
    {
     "name": "stdout",
     "output_type": "stream",
     "text": [
      "The strings are rotations of each other.\n"
     ]
    }
   ],
   "source": [
    "#3 Write a program to check if two strings are a rotation of each other?\n",
    "\n",
    "def are_rotations(str1, str2):\n",
    "    if len(str1) != len(str2):\n",
    "        return False\n",
    "\n",
    "    concatenated_str = str1 + str1\n",
    "\n",
    "    if str2 in concatenated_str:\n",
    "        return True\n",
    "\n",
    "    return False\n",
    "\n",
    "string1 = \"abcdef\"\n",
    "string2 = \"defabc\"\n",
    "if are_rotations(string1, string2):\n",
    "    print(\"The strings are rotations of each other.\")\n",
    "else:\n",
    "    print(\"The strings are not rotations of each other.\")\n"
   ]
  },
  {
   "cell_type": "code",
   "execution_count": null,
   "metadata": {},
   "outputs": [],
   "source": [
    "# 4.Write a program to print the first non-repeated character from a string?\n",
    "\n",
    "def first_non_repeated_char(input_str):\n",
    "    char_count = {}\n",
    "\n",
    "    for char in input_str:\n",
    "        if char in char_count:\n",
    "            char_count[char] += 1\n",
    "        else:\n",
    "            char_count[char] = 1\n",
    "\n",
    "    for char in input_str:\n",
    "        if char_count[char] == 1:\n",
    "            return char\n",
    "\n",
    "    return None\n",
    "\n",
    "input_string = \"programming\"\n",
    "result = first_non_repeated_char(input_string)\n",
    "\n",
    "if result is not None:\n",
    "    print(f\"The first non-repeated character is: {result}\")\n",
    "else:\n",
    "    print(\"No non-repeated character found in the string.\")\n"
   ]
  },
  {
   "cell_type": "code",
   "execution_count": null,
   "metadata": {},
   "outputs": [],
   "source": [
    "# 5 Read about the Tower of Hanoi algorithm. Write a program to implement it.\n",
    "\n",
    "def tower_of_hanoi(n, source_peg, auxiliary_peg, target_peg):\n",
    "    if n == 1:\n",
    "       \n",
    "        print(f\"Move disk 1 from {source_peg} to {target_peg}\")\n",
    "        return\n",
    "    else:\n",
    "       \n",
    "        tower_of_hanoi(n - 1, source_peg, target_peg, auxiliary_peg)\n",
    "        \n",
    "        print(f\"Move disk {n} from {source_peg} to {target_peg}\")\n",
    "        \n",
    "        tower_of_hanoi(n - 1, auxiliary_peg, source_peg, target_peg)\n",
    "\n",
    "num_disks = 3\n",
    "tower_of_hanoi(num_disks, 'A', 'B', 'C')\n"
   ]
  },
  {
   "cell_type": "code",
   "execution_count": 7,
   "metadata": {},
   "outputs": [
    {
     "name": "stdout",
     "output_type": "stream",
     "text": [
      "Postfix expression: 32+6*\n",
      "Prefix expression: *+326\n"
     ]
    }
   ],
   "source": [
    "#6 Read about infix, prefix, and postfix expressions. Write a program to convert postfix to prefix expression \n",
    "\n",
    "def is_operator(char):\n",
    "    return char in \"+-*/\"\n",
    "\n",
    "def postfix_to_prefix(postfix_expression):\n",
    "    stack = []\n",
    "    operators = \"+-*/\"\n",
    "\n",
    "    for char in postfix_expression:\n",
    "        if not is_operator(char):\n",
    "            stack.append(char)\n",
    "        else:\n",
    "            operand2 = stack.pop()\n",
    "            operand1 = stack.pop()\n",
    "\n",
    "            new_expression = char + operand1 + operand2\n",
    "            stack.append(new_expression)\n",
    "\n",
    "    return stack[0]\n",
    "\n",
    "postfix_expression = \"32+6*\"\n",
    "prefix_expression = postfix_to_prefix(postfix_expression)\n",
    "print(\"Postfix expression:\", postfix_expression)\n",
    "print(\"Prefix expression:\", prefix_expression)\n"
   ]
  },
  {
   "cell_type": "code",
   "execution_count": 8,
   "metadata": {},
   "outputs": [
    {
     "name": "stdout",
     "output_type": "stream",
     "text": [
      "Prefix expression: +*32*65\n",
      "Infix expression: ((3*2)+(6*5))\n"
     ]
    }
   ],
   "source": [
    "#7 Write a program to convert prefix expression to infix expression.\n",
    "\n",
    "def is_operator(char):\n",
    "    return char in \"+-*/\"\n",
    "\n",
    "def prefix_to_infix(prefix_expression):\n",
    "    stack = []\n",
    "    operators = \"+-*/\"\n",
    "\n",
    "    prefix_expression = prefix_expression[::-1]\n",
    "\n",
    "    for char in prefix_expression:\n",
    "        if not is_operator(char):\n",
    "            stack.append(char)\n",
    "        else:\n",
    "            operand1 = stack.pop()\n",
    "            operand2 = stack.pop()\n",
    "\n",
    "            new_expression = f\"({operand1}{char}{operand2})\"\n",
    "\n",
    "            stack.append(new_expression)\n",
    "\n",
    "    return stack[0]\n",
    "\n",
    "prefix_expression = \"+*32*65\"\n",
    "infix_expression = prefix_to_infix(prefix_expression)\n",
    "print(\"Prefix expression:\", prefix_expression)\n",
    "print(\"Infix expression:\", infix_expression)\n"
   ]
  },
  {
   "cell_type": "code",
   "execution_count": 9,
   "metadata": {},
   "outputs": [
    {
     "name": "stdout",
     "output_type": "stream",
     "text": [
      "Brackets are balanced in the code snippet.\n"
     ]
    }
   ],
   "source": [
    "#8 Write a program to check if all the brackets are closed in a given code snippet.\n",
    "\n",
    "def are_brackets_balanced(code):\n",
    "    stack = []\n",
    "    bracket_pairs = {')': '(', '}': '{', ']': '['}\n",
    "\n",
    "    for char in code:\n",
    "        if char in \"({[\":\n",
    "            \n",
    "            stack.append(char)\n",
    "        elif char in \")}]\":\n",
    "            if not stack:\n",
    "                return False\n",
    "            top = stack.pop()\n",
    "            if bracket_pairs[char] != top:\n",
    "                return False\n",
    "\n",
    "    return not stack\n",
    "\n",
    "code_snippet = \"{[()()]}\"\n",
    "if are_brackets_balanced(code_snippet):\n",
    "    print(\"Brackets are balanced in the code snippet.\")\n",
    "else:\n",
    "    print(\"Brackets are not balanced in the code snippet.\")\n"
   ]
  },
  {
   "cell_type": "code",
   "execution_count": 11,
   "metadata": {},
   "outputs": [
    {
     "name": "stdout",
     "output_type": "stream",
     "text": [
      "Original stack:\n",
      "3 9 7 5 \n",
      "Reversed stack:\n"
     ]
    }
   ],
   "source": [
    "#9  Write a program to reverse a stack\n",
    "\n",
    "class Stack:\n",
    "    def __init__(self):\n",
    "        self.items = []\n",
    "\n",
    "    def push(self, item):\n",
    "        self.items.append(item)\n",
    "\n",
    "    def pop(self):\n",
    "        if not self.is_empty():\n",
    "            return self.items.pop()\n",
    "\n",
    "    def is_empty(self):\n",
    "        return len(self.items) == 0\n",
    "\n",
    "    def peek(self):\n",
    "        if not self.is_empty():\n",
    "            return self.items[-1]\n",
    "\n",
    "    def size(self):\n",
    "        return len(self.items)\n",
    "\n",
    "\n",
    "def reverse_stack(stack):\n",
    "    aux_stack = Stack()\n",
    "\n",
    "    while not stack.is_empty():\n",
    "        aux_stack.push(stack.pop())\n",
    "\n",
    "    while not aux_stack.is_empty():\n",
    "        stack.push(aux_stack.pop())\n",
    "\n",
    "\n",
    "if __name__ == \"__main__\":\n",
    "    stack = Stack()\n",
    "    stack.push(5)\n",
    "    stack.push(7)\n",
    "    stack.push(9)\n",
    "    stack.push(3)\n",
    "\n",
    "    print(\"Original stack:\")\n",
    "    while not stack.is_empty():\n",
    "        print(stack.pop(), end=\" \")\n",
    "\n",
    "    reverse_stack(stack)\n",
    "\n",
    "    print(\"\\nReversed stack:\")\n",
    "    while not stack.is_empty():\n",
    "        print(stack.pop(), end=\" \")\n"
   ]
  },
  {
   "cell_type": "code",
   "execution_count": 12,
   "metadata": {},
   "outputs": [
    {
     "name": "stdout",
     "output_type": "stream",
     "text": [
      "Smallest number: 4\n"
     ]
    }
   ],
   "source": [
    "#10 Write a program to find the smallest number using a stack.\n",
    "\n",
    "class Stack:\n",
    "    def __init__(self):\n",
    "        self.items = []\n",
    "\n",
    "    def push(self, item):\n",
    "        self.items.append(item)\n",
    "\n",
    "    def pop(self):\n",
    "        if not self.is_empty():\n",
    "            return self.items.pop()\n",
    "\n",
    "    def is_empty(self):\n",
    "        return len(self.items) == 0\n",
    "\n",
    "    def peek(self):\n",
    "        if not self.is_empty():\n",
    "            return self.items[-1]\n",
    "\n",
    "    def size(self):\n",
    "        return len(self.items)\n",
    "\n",
    "\n",
    "class MinStack:\n",
    "    def __init__(self):\n",
    "        self.main_stack = Stack()\n",
    "        self.min_stack = Stack()\n",
    "\n",
    "    def push(self, item):\n",
    "        self.main_stack.push(item)\n",
    "\n",
    "        if self.min_stack.is_empty() or item <= self.min_stack.peek():\n",
    "            self.min_stack.push(item)\n",
    "\n",
    "    def pop(self):\n",
    "        if not self.main_stack.is_empty():\n",
    "            item = self.main_stack.pop()\n",
    "\n",
    "            if item == self.min_stack.peek():\n",
    "                self.min_stack.pop()\n",
    "\n",
    "    def get_min(self):\n",
    "        if not self.min_stack.is_empty():\n",
    "            return self.min_stack.peek()\n",
    "\n",
    "\n",
    "if __name__ == \"__main__\":\n",
    "    min_stack = MinStack()\n",
    "    min_stack.push(5)\n",
    "    min_stack.push(4)\n",
    "    min_stack.push(7)\n",
    "    min_stack.push(8)\n",
    "\n",
    "    print(\"Smallest number:\", min_stack.get_min())\n"
   ]
  }
 ],
 "metadata": {
  "kernelspec": {
   "display_name": "Python 3",
   "language": "python",
   "name": "python3"
  },
  "language_info": {
   "codemirror_mode": {
    "name": "ipython",
    "version": 3
   },
   "file_extension": ".py",
   "mimetype": "text/x-python",
   "name": "python",
   "nbconvert_exporter": "python",
   "pygments_lexer": "ipython3",
   "version": "3.11.5"
  },
  "orig_nbformat": 4
 },
 "nbformat": 4,
 "nbformat_minor": 2
}
