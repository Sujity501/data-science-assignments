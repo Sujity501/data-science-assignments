{
 "cells": [
  {
   "cell_type": "code",
   "execution_count": 16,
   "metadata": {},
   "outputs": [
    {
     "name": "stdout",
     "output_type": "stream",
     "text": [
      "Data is  written in 'indian_states.json'.\n"
     ]
    }
   ],
   "source": [
    "import json\n",
    "\n",
    "\n",
    "class Employee:\n",
    "    def __init__(self, name, dob, height, city, state):\n",
    "        self.name = name\n",
    "        self.dob = dob\n",
    "        self.height = height\n",
    "        self.city = city\n",
    "        self.state = state\n",
    "\n",
    "\n",
    "with open('employee.json', 'r') as file:\n",
    "    employee_data = json.load(file)\n",
    "\n",
    "\n",
    "employee_list = []\n",
    "for employee_info in employee_data:\n",
    "    employee = Employee(\n",
    "        employee_info[\"Name\"],\n",
    "        employee_info[\"DOB\"],\n",
    "        employee_info[\"Height\"],\n",
    "        employee_info[\"City\"],\n",
    "        employee_info[\"State\"]\n",
    "    )\n",
    "    employee_list.append(employee)\n",
    "\n",
    "s\n",
    "for employee in employee_list:\n",
    "    print(f\"Name: {employee.name}, DOB: {employee.dob}, Height: {employee.height} cm, City: {employee.city}, State: {employee.state}\")\n",
    "\n"
   ]
  },
  {
   "cell_type": "code",
   "execution_count": 22,
   "metadata": {},
   "outputs": [
    {
     "name": "stdout",
     "output_type": "stream",
     "text": [
      "Data is  written in 'indian_states.json'.\n"
     ]
    }
   ],
   "source": [
    "### 2. Create a dictionary of any 7 Indian states and their capitals. Write this into a JSON file.\n",
    "\n",
    "\n",
    "import json\n",
    "\n",
    "\n",
    "indian_states_and_capitals = {\n",
    "    \"Maharashtra\": \"Mumbai\",\n",
    "    \"Delhi\": \"New Delhi\",\n",
    "    \"Karnataka\": \"Bangalore\",\n",
    "    \"Uttar Pradesh\": \"Lucknow\",\n",
    "    \"Tamil Nadu\": \"Chennai\",\n",
    "    \"Rajasthan\": \"Jaipur\",\n",
    "    \"West Bengal\": \"Kolkata\"\n",
    "}\n",
    "\n",
    "json_filename = 'indian_states.json'\n",
    "\n",
    "with open(json_filename, 'w') as json_file:\n",
    "    json.dump(indian_states_and_capitals, json_file, indent=4)\n",
    "\n",
    "print(f\"Data is  written in '{json_filename}'.\")"
   ]
  },
  {
   "cell_type": "code",
   "execution_count": null,
   "metadata": {},
   "outputs": [],
   "source": []
  },
  {
   "cell_type": "code",
   "execution_count": 17,
   "metadata": {},
   "outputs": [
    {
     "name": "stdout",
     "output_type": "stream",
     "text": [
      "Buddy is 3 years old.\n",
      "Buddy's coat color is Brown.\n",
      "Rusty is 2 years old.\n",
      "Rusty's coat color is White and Brown.\n",
      "Rusty is a Jack Russell Terrier with a hunting skill level of High.\n",
      "Rusty fetches the ball with enthusiasm!\n",
      "Max is 5 years old.\n",
      "Max's coat color is Black.\n",
      "Max is a Bulldog with a weight of 25 kg.\n",
      "Max sits down obediently.\n"
     ]
    }
   ],
   "source": [
    "#Assignment 2\n",
    "# Parent class 'Dog'\n",
    "\n",
    "class Dog:\n",
    "    def __init__(self, name, age, coat_color):\n",
    "        self.name = name\n",
    "        self.age = age\n",
    "        self.coat_color = coat_color\n",
    "\n",
    "    def description(self):\n",
    "        print(f\"{self.name} is {self.age} years old.\")\n",
    "\n",
    "    def get_info(self):\n",
    "        print(f\"{self.name}'s coat color is {self.coat_color}.\")\n",
    "\n",
    "class German(Dog):\n",
    "    def __init__(self, name, age, coat_color, hunting_skill_level):\n",
    "        super().__init__(name, age, coat_color)\n",
    "        self.hunting_skill_level = hunting_skill_level\n",
    "\n",
    "    def describe_breed(self):\n",
    "        print(f\"{self.name} is a Jack Russell Terrier with a hunting skill level of {self.hunting_skill_level}.\")\n",
    "\n",
    "    def fetch_ball(self):\n",
    "        print(f\"{self.name} fetches the ball with enthusiasm!\")\n",
    "\n",
    "class Bulldog(Dog):\n",
    "    def __init__(self, name, age, coat_color, weight):\n",
    "        super().__init__(name, age, coat_color)\n",
    "        self.weight = weight\n",
    "\n",
    "    def describe_breed(self):\n",
    "        print(f\"{self.name} is a Bulldog with a weight of {self.weight} kg.\")\n",
    "\n",
    "    def sit(self):\n",
    "        print(f\"{self.name} sits down obediently.\")\n",
    "\n",
    "dog1 = Dog(\"Buddy\", 3, \"Brown\")\n",
    "jack_russell = German(\"Rusty\", 2, \"White and Brown\", \"High\")\n",
    "bulldog = Bulldog(\"Max\", 5, \"Black\", 25)\n",
    "\n",
    "dog1.description()\n",
    "dog1.get_info()\n",
    "\n",
    "jack_russell.description()\n",
    "jack_russell.get_info()\n",
    "jack_russell.describe_breed()\n",
    "jack_russell.fetch_ball()\n",
    "\n",
    "bulldog.description()\n",
    "bulldog.get_info()\n",
    "bulldog.describe_breed()\n",
    "bulldog.sit()\n"
   ]
  }
 ],
 "metadata": {
  "kernelspec": {
   "display_name": "Python 3",
   "language": "python",
   "name": "python3"
  },
  "language_info": {
   "codemirror_mode": {
    "name": "ipython",
    "version": 3
   },
   "file_extension": ".py",
   "mimetype": "text/x-python",
   "name": "python",
   "nbconvert_exporter": "python",
   "pygments_lexer": "ipython3",
   "version": "3.11.5"
  },
  "orig_nbformat": 4
 },
 "nbformat": 4,
 "nbformat_minor": 2
}
